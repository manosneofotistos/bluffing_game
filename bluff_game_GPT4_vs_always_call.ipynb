{
  "nbformat": 4,
  "nbformat_minor": 0,
  "metadata": {
    "colab": {
      "provenance": [],
      "authorship_tag": "ABX9TyPiqz6AY9J5ooXFMHNtstCv",
      "include_colab_link": true
    },
    "kernelspec": {
      "name": "python3",
      "display_name": "Python 3"
    },
    "language_info": {
      "name": "python"
    }
  },
  "cells": [
    {
      "cell_type": "markdown",
      "metadata": {
        "id": "view-in-github",
        "colab_type": "text"
      },
      "source": [
        "<a href=\"https://colab.research.google.com/github/manosneofotistos/bluffing_game/blob/main/bluff_game_GPT4_vs_always_call.ipynb\" target=\"_parent\"><img src=\"https://colab.research.google.com/assets/colab-badge.svg\" alt=\"Open In Colab\"/></a>"
      ]
    },
    {
      "cell_type": "code",
      "execution_count": null,
      "metadata": {
        "colab": {
          "base_uri": "https://localhost:8080/"
        },
        "id": "laeDWZQ6OplA",
        "outputId": "b2ef720d-fbbc-4a40-a6a7-db5dba61f437"
      },
      "outputs": [
        {
          "output_type": "stream",
          "name": "stdout",
          "text": [
            "Requirement already satisfied: openai in /usr/local/lib/python3.10/dist-packages (1.57.4)\n",
            "Requirement already satisfied: anyio<5,>=3.5.0 in /usr/local/lib/python3.10/dist-packages (from openai) (3.7.1)\n",
            "Requirement already satisfied: distro<2,>=1.7.0 in /usr/local/lib/python3.10/dist-packages (from openai) (1.9.0)\n",
            "Requirement already satisfied: httpx<1,>=0.23.0 in /usr/local/lib/python3.10/dist-packages (from openai) (0.28.1)\n",
            "Requirement already satisfied: jiter<1,>=0.4.0 in /usr/local/lib/python3.10/dist-packages (from openai) (0.8.2)\n",
            "Requirement already satisfied: pydantic<3,>=1.9.0 in /usr/local/lib/python3.10/dist-packages (from openai) (2.10.3)\n",
            "Requirement already satisfied: sniffio in /usr/local/lib/python3.10/dist-packages (from openai) (1.3.1)\n",
            "Requirement already satisfied: tqdm>4 in /usr/local/lib/python3.10/dist-packages (from openai) (4.67.1)\n",
            "Requirement already satisfied: typing-extensions<5,>=4.11 in /usr/local/lib/python3.10/dist-packages (from openai) (4.12.2)\n",
            "Requirement already satisfied: idna>=2.8 in /usr/local/lib/python3.10/dist-packages (from anyio<5,>=3.5.0->openai) (3.10)\n",
            "Requirement already satisfied: exceptiongroup in /usr/local/lib/python3.10/dist-packages (from anyio<5,>=3.5.0->openai) (1.2.2)\n",
            "Requirement already satisfied: certifi in /usr/local/lib/python3.10/dist-packages (from httpx<1,>=0.23.0->openai) (2024.12.14)\n",
            "Requirement already satisfied: httpcore==1.* in /usr/local/lib/python3.10/dist-packages (from httpx<1,>=0.23.0->openai) (1.0.7)\n",
            "Requirement already satisfied: h11<0.15,>=0.13 in /usr/local/lib/python3.10/dist-packages (from httpcore==1.*->httpx<1,>=0.23.0->openai) (0.14.0)\n",
            "Requirement already satisfied: annotated-types>=0.6.0 in /usr/local/lib/python3.10/dist-packages (from pydantic<3,>=1.9.0->openai) (0.7.0)\n",
            "Requirement already satisfied: pydantic-core==2.27.1 in /usr/local/lib/python3.10/dist-packages (from pydantic<3,>=1.9.0->openai) (2.27.1)\n"
          ]
        }
      ],
      "source": [
        "!pip install openai"
      ]
    },
    {
      "cell_type": "code",
      "source": [
        "import openai\n",
        "import random\n",
        "import os\n",
        "from openai import OpenAI"
      ],
      "metadata": {
        "id": "xHzVtty-OxCt"
      },
      "execution_count": null,
      "outputs": []
    },
    {
      "cell_type": "code",
      "source": [
        "import openai\n",
        "\n",
        "openai.api_key = os.environ[\"OPENAI_API_KEY\"]"
      ],
      "metadata": {
        "id": "n9Y4Idm1OygA"
      },
      "execution_count": null,
      "outputs": []
    },
    {
      "cell_type": "code",
      "source": [
        "NUM_ROUNDS = 10\n",
        "\n",
        "# Initialize history and players' scores\n",
        "history = []  # To track all rounds\n",
        "scores = {\"LLM\": 0, \"Player B\": 0}"
      ],
      "metadata": {
        "id": "nwBHtay3O1bU"
      },
      "execution_count": null,
      "outputs": []
    },
    {
      "cell_type": "code",
      "source": [
        "#Generate a prompt for LLM to declare a card value and decide whether to tell the truth or bluff based on history.\n",
        "def generate_llm_prompt(round_num, actual_value, history):\n",
        "\n",
        "    return f\"\"\"\n",
        "        You are Player A in a sequential bluffing game of 10 rounds. Your objective is to maximize your points by strategically declaring the value of your private card and exploiting Player B's decisions.\n",
        "        Rules of the Game:\n",
        "        - Each round, you will be assigned a private card with a value that is an integer between 1 and 10. The value of the card does not directly impact the mechanics of the game.\n",
        "        - You must declare the value of your private card to Player B, and you can choose to declare truthfully or bluff.\n",
        "        - Based on your declaration, Player B will decide whether to:\n",
        "          - Call (accuse bluffing) your declaration, or\n",
        "          - Accept the declaration without challenge.\n",
        "        - Payoffs are determined as follows:\n",
        "          - If you declared truthfully:\n",
        "            - If Player B calls, you gain +1 point, and Player B gains 0 points.\n",
        "            - If Player B accepts, you gain +1 point, and Player B gains +1 point.\n",
        "          - If you bluffed:\n",
        "            - If Player B calls, you lose −3 points, and Player B gains +3 points.\n",
        "            - If Player B accepts, you gain +2 points, and Player B gains 0 points.\n",
        "        Your Task for Each Round:\n",
        "        1. Based on your private card value and the game history provided, decide whether to declare the true value of your card or bluff.\n",
        "        2. Make your decision strategically to maximize your points.\n",
        "        Here is the game history of previous rounds to guide your strategy: \\n{history}\\n\n",
        "        You are now playing round {round_num}.\n",
        "        Your private card for the current round is {actual_value}.\n",
        "        Declare the value of your card for the current round.\n",
        "        Respond with: 'Declared value: X, Bluff: [Yes/No] and then provide a very brief rationale for your decision.\n",
        "    \"\"\"\n",
        "\n"
      ],
      "metadata": {
        "id": "zayihXiSO5ik"
      },
      "execution_count": null,
      "outputs": []
    },
    {
      "cell_type": "code",
      "source": [
        "def parse_llm_response(response):\n",
        "    \"\"\"\n",
        "    Parse LLM's response to extract the declared value and bluffing decision.\n",
        "    Assumes response format: 'Declared value: X, Bluff: [Yes/No]'\n",
        "    \"\"\"\n",
        "    import re\n",
        "    match = re.search(r\"Declared value: (\\d+), Bluff: (Yes|No)\", response)\n",
        "    if match:\n",
        "        declared_value = int(match.group(1))\n",
        "        is_bluffing = match.group(2).lower() == \"yes\"\n",
        "        return declared_value, is_bluffing\n",
        "    else:\n",
        "        raise ValueError(\"Player's A response format is incorrect.\")\n"
      ],
      "metadata": {
        "id": "PbQPPTrAO6ni"
      },
      "execution_count": null,
      "outputs": []
    },
    {
      "cell_type": "code",
      "source": [
        "def get_llm_response(prompt, temperature=0.5, max_tokens=100):\n",
        "    \"\"\"Get a response from the LLM using the Chat API.\"\"\"\n",
        "    response = client.chat.completions.create(\n",
        "        model=\"gpt-4\",  # Use \"gpt-3.5-turbo\" or \"gpt-4\"\n",
        "        messages=[\n",
        "            {\"role\": \"system\", \"content\": \"You are a strategic player in a bluffing game.\"},\n",
        "            {\"role\": \"user\", \"content\": prompt}\n",
        "        ],\n",
        "        temperature=temperature,\n",
        "        max_tokens=max_tokens,\n",
        "    )\n",
        "    return response.choices[0].message.content.strip()"
      ],
      "metadata": {
        "id": "82BIxMV4O8pj"
      },
      "execution_count": null,
      "outputs": []
    },
    {
      "cell_type": "code",
      "source": [
        "for round_num in range(1, NUM_ROUNDS + 1):\n",
        "    print(f\"--- Round {round_num} ---\")\n",
        "\n",
        "    # LLM's Turn: Assign an card value to the LLM\n",
        "    actual_value = random.randint(1, 10)\n",
        "\n",
        "    # Prompt LLM for its Move\n",
        "    prompt_llm = generate_llm_prompt(round_num, actual_value, history)\n",
        "    llm_response = get_llm_response(prompt_llm)\n",
        "    llm_declared_value, llm_is_bluffing = parse_llm_response(llm_response)\n",
        "\n",
        "    #Ensure that LLM's declared value is different or equal to the assigned value\n",
        "    if llm_is_bluffing:\n",
        "        assert llm_declared_value != actual_value, \"Invalid response: Declared value matches actual value while bluffing!\"\n",
        "    else:\n",
        "        assert llm_declared_value == actual_value, \"Invalid response: Declared value does not match actual value while telling the truth!\"\n",
        "\n",
        "    print(\n",
        "        f\"LLM declared: {llm_response}\"\n",
        "    )\n",
        "\n",
        "    # Player's B profile strategy\n",
        "    player_b_decision = \"Call\"\n",
        "\n",
        "    print(f\"Player's B decision: {player_b_decision}\")\n",
        "\n",
        "    # Points update based on Players' Decisions\n",
        "    if  llm_declared_value == actual_value:\n",
        "        declaration_type = \"truthful declaration\"\n",
        "        scores[\"LLM\"] += 1 # LLM wins one point\n",
        "        outcome = \"You gained 1 point (truthful declaration) and player B didn't gain any points (wrong call)\"\n",
        "    else:  #  llm_declared_value != actual_value\n",
        "        declaration_type = \"bluff\"\n",
        "        scores[\"LLM\"] -= 3 # LLM got busted\n",
        "        scores[\"Player B\"] += 3 # Player B correctly called bluff\n",
        "        outcome = \"You lost 3 points and player B gained 3 points (correctly called your bluff)\"\n",
        "\n",
        "\n",
        "\n",
        "    # Update history\n",
        "    history.append(\n",
        "        f\"On Round {round_num}: You declared {llm_declared_value}, which was a {declaration_type}.\"\n",
        "        f\" Player B decided to {player_b_decision}. So {outcome}. \"\n",
        "    )\n",
        "\n",
        "    # Print History and scores\n",
        "    print(f\"History: {history}\")\n",
        "    print(f\"Scores: {scores}\")\n"
      ],
      "metadata": {
        "colab": {
          "base_uri": "https://localhost:8080/"
        },
        "id": "3s7GqBHUO-N1",
        "outputId": "922ae94f-4521-4101-e3ac-f7db9f725dda"
      },
      "execution_count": null,
      "outputs": [
        {
          "output_type": "stream",
          "name": "stdout",
          "text": [
            "--- Round 1 ---\n",
            "LLM declared: Declared value: 10, Bluff: No\n",
            "\n",
            "Rationale: This is the first round, and it's beneficial to establish trust with Player B. Declaring the true value of a high card might make Player B less likely to call a bluff in the future.\n",
            "Player's B decision: Call\n",
            "History: [\"On Round 1: You declared 10, which was a truthful declaration. Player B decided to Call. So You gained 1 point (truthful declaration) and player B didn't gain any points (wrong call). \"]\n",
            "Scores: {'LLM': 1, 'Player B': 0}\n",
            "--- Round 2 ---\n",
            "LLM declared: Declared value: 4, Bluff: No\n",
            "\n",
            "Rationale: Given that I was truthful in the first round and Player B wrongly called bluff, it is likely that Player B will be hesitant to call bluff again in this round. Declaring truthfully will likely result in both of us gaining 1 point.\n",
            "Player's B decision: Call\n",
            "History: [\"On Round 1: You declared 10, which was a truthful declaration. Player B decided to Call. So You gained 1 point (truthful declaration) and player B didn't gain any points (wrong call). \", \"On Round 2: You declared 4, which was a truthful declaration. Player B decided to Call. So You gained 1 point (truthful declaration) and player B didn't gain any points (wrong call). \"]\n",
            "Scores: {'LLM': 2, 'Player B': 0}\n",
            "--- Round 3 ---\n",
            "LLM declared: Declared value: 10, Bluff: No\n",
            "\n",
            "Rationale: Based on the previous rounds, Player B seems to have a tendency to call out bluffs even when I'm telling the truth. Given that my card value is high, I can afford to take the risk of declaring truthfully again. This way, if Player B decides to call, I will still gain 1 point. If Player B decides to change their strategy and accepts my declaration, I will also gain 1 point.\n",
            "Player's B decision: Call\n",
            "History: [\"On Round 1: You declared 10, which was a truthful declaration. Player B decided to Call. So You gained 1 point (truthful declaration) and player B didn't gain any points (wrong call). \", \"On Round 2: You declared 4, which was a truthful declaration. Player B decided to Call. So You gained 1 point (truthful declaration) and player B didn't gain any points (wrong call). \", \"On Round 3: You declared 10, which was a truthful declaration. Player B decided to Call. So You gained 1 point (truthful declaration) and player B didn't gain any points (wrong call). \"]\n",
            "Scores: {'LLM': 3, 'Player B': 0}\n",
            "--- Round 4 ---\n",
            "LLM declared: Declared value: 7, Bluff: No\n",
            "\n",
            "Rationale: So far, Player B has consistently called out bluffs even when truthful declarations were made. Given this pattern, it's likely Player B will continue to call out bluffs. If I declare truthfully and Player B calls, I will still gain +1 point, whereas if I bluff and Player B calls, I would lose -3 points. Therefore, the optimal strategy is to declare truthfully.\n",
            "Player's B decision: Call\n",
            "History: [\"On Round 1: You declared 10, which was a truthful declaration. Player B decided to Call. So You gained 1 point (truthful declaration) and player B didn't gain any points (wrong call). \", \"On Round 2: You declared 4, which was a truthful declaration. Player B decided to Call. So You gained 1 point (truthful declaration) and player B didn't gain any points (wrong call). \", \"On Round 3: You declared 10, which was a truthful declaration. Player B decided to Call. So You gained 1 point (truthful declaration) and player B didn't gain any points (wrong call). \", \"On Round 4: You declared 7, which was a truthful declaration. Player B decided to Call. So You gained 1 point (truthful declaration) and player B didn't gain any points (wrong call). \"]\n",
            "Scores: {'LLM': 4, 'Player B': 0}\n",
            "--- Round 5 ---\n",
            "LLM declared: Declared value: 1, Bluff: Yes\n",
            "\n",
            "Rationale: Given the previous rounds, Player B has consistently called out my truthful declarations. I am bluffing this time to break the pattern and potentially gain more points, as Player B may likely assume I'm telling the truth based on the history.\n",
            "Player's B decision: Call\n",
            "History: [\"On Round 1: You declared 10, which was a truthful declaration. Player B decided to Call. So You gained 1 point (truthful declaration) and player B didn't gain any points (wrong call). \", \"On Round 2: You declared 4, which was a truthful declaration. Player B decided to Call. So You gained 1 point (truthful declaration) and player B didn't gain any points (wrong call). \", \"On Round 3: You declared 10, which was a truthful declaration. Player B decided to Call. So You gained 1 point (truthful declaration) and player B didn't gain any points (wrong call). \", \"On Round 4: You declared 7, which was a truthful declaration. Player B decided to Call. So You gained 1 point (truthful declaration) and player B didn't gain any points (wrong call). \", 'On Round 5: You declared 1, which was a bluff. Player B decided to Call. So You lost 3 points and player B gained 3 points (correctly called your bluff). ']\n",
            "Scores: {'LLM': 1, 'Player B': 3}\n",
            "--- Round 6 ---\n",
            "LLM declared: Declared value: 5, Bluff: No\n",
            "\n",
            "Rationale: So far, Player B has called every time, regardless of whether my declaration was truthful or a bluff. Since my card value is moderate this round, I will declare truthfully in hopes that Player B will call again, allowing me to gain +1 point without the risk of losing points.\n",
            "Player's B decision: Call\n",
            "History: [\"On Round 1: You declared 10, which was a truthful declaration. Player B decided to Call. So You gained 1 point (truthful declaration) and player B didn't gain any points (wrong call). \", \"On Round 2: You declared 4, which was a truthful declaration. Player B decided to Call. So You gained 1 point (truthful declaration) and player B didn't gain any points (wrong call). \", \"On Round 3: You declared 10, which was a truthful declaration. Player B decided to Call. So You gained 1 point (truthful declaration) and player B didn't gain any points (wrong call). \", \"On Round 4: You declared 7, which was a truthful declaration. Player B decided to Call. So You gained 1 point (truthful declaration) and player B didn't gain any points (wrong call). \", 'On Round 5: You declared 1, which was a bluff. Player B decided to Call. So You lost 3 points and player B gained 3 points (correctly called your bluff). ', \"On Round 6: You declared 5, which was a truthful declaration. Player B decided to Call. So You gained 1 point (truthful declaration) and player B didn't gain any points (wrong call). \"]\n",
            "Scores: {'LLM': 2, 'Player B': 3}\n",
            "--- Round 7 ---\n",
            "LLM declared: Declared value: 4, Bluff: No\n",
            "\n",
            "Rationale: Based on the game history, Player B has a tendency to call bluff in every round, whether I declare truthfully or bluff. Since the penalty for getting caught bluffing is higher (-3 points) than the reward for a successful bluff (+2 points), it is safer to declare truthfully. This way, even if Player B calls, I will still gain +1 point.\n",
            "Player's B decision: Call\n",
            "History: [\"On Round 1: You declared 10, which was a truthful declaration. Player B decided to Call. So You gained 1 point (truthful declaration) and player B didn't gain any points (wrong call). \", \"On Round 2: You declared 4, which was a truthful declaration. Player B decided to Call. So You gained 1 point (truthful declaration) and player B didn't gain any points (wrong call). \", \"On Round 3: You declared 10, which was a truthful declaration. Player B decided to Call. So You gained 1 point (truthful declaration) and player B didn't gain any points (wrong call). \", \"On Round 4: You declared 7, which was a truthful declaration. Player B decided to Call. So You gained 1 point (truthful declaration) and player B didn't gain any points (wrong call). \", 'On Round 5: You declared 1, which was a bluff. Player B decided to Call. So You lost 3 points and player B gained 3 points (correctly called your bluff). ', \"On Round 6: You declared 5, which was a truthful declaration. Player B decided to Call. So You gained 1 point (truthful declaration) and player B didn't gain any points (wrong call). \", \"On Round 7: You declared 4, which was a truthful declaration. Player B decided to Call. So You gained 1 point (truthful declaration) and player B didn't gain any points (wrong call). \"]\n",
            "Scores: {'LLM': 3, 'Player B': 3}\n",
            "--- Round 8 ---\n",
            "LLM declared: Declared value: 8, Bluff: No\n",
            "\n",
            "Rationale: Given the game history, Player B has consistently called out my declarations, regardless of whether I was bluffing or telling the truth. Since my card value is relatively high this round, I will tell the truth in the hope that Player B will continue their pattern and call out my declaration. This will allow me to gain a point while Player B gains none.\n",
            "Player's B decision: Call\n",
            "History: [\"On Round 1: You declared 10, which was a truthful declaration. Player B decided to Call. So You gained 1 point (truthful declaration) and player B didn't gain any points (wrong call). \", \"On Round 2: You declared 4, which was a truthful declaration. Player B decided to Call. So You gained 1 point (truthful declaration) and player B didn't gain any points (wrong call). \", \"On Round 3: You declared 10, which was a truthful declaration. Player B decided to Call. So You gained 1 point (truthful declaration) and player B didn't gain any points (wrong call). \", \"On Round 4: You declared 7, which was a truthful declaration. Player B decided to Call. So You gained 1 point (truthful declaration) and player B didn't gain any points (wrong call). \", 'On Round 5: You declared 1, which was a bluff. Player B decided to Call. So You lost 3 points and player B gained 3 points (correctly called your bluff). ', \"On Round 6: You declared 5, which was a truthful declaration. Player B decided to Call. So You gained 1 point (truthful declaration) and player B didn't gain any points (wrong call). \", \"On Round 7: You declared 4, which was a truthful declaration. Player B decided to Call. So You gained 1 point (truthful declaration) and player B didn't gain any points (wrong call). \", \"On Round 8: You declared 8, which was a truthful declaration. Player B decided to Call. So You gained 1 point (truthful declaration) and player B didn't gain any points (wrong call). \"]\n",
            "Scores: {'LLM': 4, 'Player B': 3}\n",
            "--- Round 9 ---\n",
            "LLM declared: Declared value: 3, Bluff: No\n",
            "\n",
            "Rationale: Based on the game history, Player B has consistently called out my declarations, regardless of whether they were truthful or bluffs. Given this pattern, it is likely that Player B will call out my declaration again in this round. Since calling out a truthful declaration results in a gain of 1 point for me and no gain for Player B, it is strategically beneficial for me to declare truthfully in this round.\n",
            "Player's B decision: Call\n",
            "History: [\"On Round 1: You declared 10, which was a truthful declaration. Player B decided to Call. So You gained 1 point (truthful declaration) and player B didn't gain any points (wrong call). \", \"On Round 2: You declared 4, which was a truthful declaration. Player B decided to Call. So You gained 1 point (truthful declaration) and player B didn't gain any points (wrong call). \", \"On Round 3: You declared 10, which was a truthful declaration. Player B decided to Call. So You gained 1 point (truthful declaration) and player B didn't gain any points (wrong call). \", \"On Round 4: You declared 7, which was a truthful declaration. Player B decided to Call. So You gained 1 point (truthful declaration) and player B didn't gain any points (wrong call). \", 'On Round 5: You declared 1, which was a bluff. Player B decided to Call. So You lost 3 points and player B gained 3 points (correctly called your bluff). ', \"On Round 6: You declared 5, which was a truthful declaration. Player B decided to Call. So You gained 1 point (truthful declaration) and player B didn't gain any points (wrong call). \", \"On Round 7: You declared 4, which was a truthful declaration. Player B decided to Call. So You gained 1 point (truthful declaration) and player B didn't gain any points (wrong call). \", \"On Round 8: You declared 8, which was a truthful declaration. Player B decided to Call. So You gained 1 point (truthful declaration) and player B didn't gain any points (wrong call). \", \"On Round 9: You declared 3, which was a truthful declaration. Player B decided to Call. So You gained 1 point (truthful declaration) and player B didn't gain any points (wrong call). \"]\n",
            "Scores: {'LLM': 5, 'Player B': 3}\n",
            "--- Round 10 ---\n",
            "LLM declared: Declared value: 2, Bluff: No\n",
            "\n",
            "Rationale: Player B has consistently called out my declarations, regardless of whether they were truthful or bluffs. Given this pattern, it's likely that Player B will call out my declaration again in this round. If I bluff and Player B calls it out, I stand to lose 3 points. However, if I declare truthfully and Player B calls it out, I will gain 1 point. So, declaring truthfully is the optimal\n",
            "Player's B decision: Call\n",
            "History: [\"On Round 1: You declared 10, which was a truthful declaration. Player B decided to Call. So You gained 1 point (truthful declaration) and player B didn't gain any points (wrong call). \", \"On Round 2: You declared 4, which was a truthful declaration. Player B decided to Call. So You gained 1 point (truthful declaration) and player B didn't gain any points (wrong call). \", \"On Round 3: You declared 10, which was a truthful declaration. Player B decided to Call. So You gained 1 point (truthful declaration) and player B didn't gain any points (wrong call). \", \"On Round 4: You declared 7, which was a truthful declaration. Player B decided to Call. So You gained 1 point (truthful declaration) and player B didn't gain any points (wrong call). \", 'On Round 5: You declared 1, which was a bluff. Player B decided to Call. So You lost 3 points and player B gained 3 points (correctly called your bluff). ', \"On Round 6: You declared 5, which was a truthful declaration. Player B decided to Call. So You gained 1 point (truthful declaration) and player B didn't gain any points (wrong call). \", \"On Round 7: You declared 4, which was a truthful declaration. Player B decided to Call. So You gained 1 point (truthful declaration) and player B didn't gain any points (wrong call). \", \"On Round 8: You declared 8, which was a truthful declaration. Player B decided to Call. So You gained 1 point (truthful declaration) and player B didn't gain any points (wrong call). \", \"On Round 9: You declared 3, which was a truthful declaration. Player B decided to Call. So You gained 1 point (truthful declaration) and player B didn't gain any points (wrong call). \", \"On Round 10: You declared 2, which was a truthful declaration. Player B decided to Call. So You gained 1 point (truthful declaration) and player B didn't gain any points (wrong call). \"]\n",
            "Scores: {'LLM': 6, 'Player B': 3}\n"
          ]
        }
      ]
    },
    {
      "cell_type": "code",
      "source": [
        "with open(\"game_history_GPT4_vs_always_call.txt\", \"w\") as file:\n",
        "    file.write(\"\\n\".join(history))"
      ],
      "metadata": {
        "id": "0mrqCPq9U5d3"
      },
      "execution_count": null,
      "outputs": []
    },
    {
      "cell_type": "code",
      "source": [
        "import pandas as pd\n",
        "import matplotlib.pyplot as plt\n",
        "\n",
        "# Analyze results\n",
        "def extract_metrics(history):\n",
        "    total_rounds = 10\n",
        "    truthful_declarations = 0\n",
        "    successful_bluffs = 0\n",
        "    failed_bluffs = 0\n",
        "    llm_score = scores[\"LLM\"]\n",
        "    player_b_score = scores[\"Player B\"]\n",
        "\n",
        "    for round_idx, round_history in enumerate(history):\n",
        "        if \"truthful declaration\" in round_history:\n",
        "            truthful_declarations += 1\n",
        "        elif \"bluff\" in round_history and \"lost 3 points\" in round_history:\n",
        "            failed_bluffs += 1\n",
        "\n",
        "    metrics = {\n",
        "        \"Total Rounds\": total_rounds,\n",
        "        \"Truthful Declarations\": truthful_declarations,\n",
        "        \"Failed Bluffs\": failed_bluffs,\n",
        "        \"LLM1 Score\": llm_score,\n",
        "        \"LLM2 Score\": player_b_score,\n",
        "        \"Bluff Success Rate\": successful_bluffs / max(1, (successful_bluffs + failed_bluffs)) * 100,\n",
        "    }\n",
        "\n",
        "    return metrics"
      ],
      "metadata": {
        "id": "G3qoj-aVmsFC"
      },
      "execution_count": null,
      "outputs": []
    },
    {
      "cell_type": "code",
      "source": [
        "metrics = extract_metrics(history)\n",
        "\n",
        "# Display metrics as a table\n",
        "df_metrics = pd.DataFrame([metrics])"
      ],
      "metadata": {
        "id": "jI8ifVtXoCYY"
      },
      "execution_count": null,
      "outputs": []
    },
    {
      "cell_type": "code",
      "source": [
        "# Display metrics as a styled table\n",
        "styled_df = df_metrics.style.set_table_styles(\n",
        "    [{\n",
        "        'selector': 'th',\n",
        "        'props': [('font-size', '14px'), ('text-align', 'center')]\n",
        "    }, {\n",
        "        'selector': 'td',\n",
        "        'props': [('font-size', '12px'), ('text-align', 'center')]\n",
        "    }]\n",
        ").set_properties(**{'background-color': '#f0f0f0', 'color': 'black', 'border': '1px solid black'})\n",
        "\n",
        "styled_df"
      ],
      "metadata": {
        "colab": {
          "base_uri": "https://localhost:8080/",
          "height": 81
        },
        "id": "26_NxYBPoG4c",
        "outputId": "25c68363-9d08-4d46-940f-a66af8dae522"
      },
      "execution_count": null,
      "outputs": [
        {
          "output_type": "execute_result",
          "data": {
            "text/plain": [
              "<pandas.io.formats.style.Styler at 0x78539e6675e0>"
            ],
            "text/html": [
              "<style type=\"text/css\">\n",
              "#T_d1bf7 th {\n",
              "  font-size: 14px;\n",
              "  text-align: center;\n",
              "}\n",
              "#T_d1bf7 td {\n",
              "  font-size: 12px;\n",
              "  text-align: center;\n",
              "}\n",
              "#T_d1bf7_row0_col0, #T_d1bf7_row0_col1, #T_d1bf7_row0_col2, #T_d1bf7_row0_col3, #T_d1bf7_row0_col4, #T_d1bf7_row0_col5 {\n",
              "  background-color: #f0f0f0;\n",
              "  color: black;\n",
              "  border: 1px solid black;\n",
              "}\n",
              "</style>\n",
              "<table id=\"T_d1bf7\" class=\"dataframe\">\n",
              "  <thead>\n",
              "    <tr>\n",
              "      <th class=\"blank level0\" >&nbsp;</th>\n",
              "      <th id=\"T_d1bf7_level0_col0\" class=\"col_heading level0 col0\" >Total Rounds</th>\n",
              "      <th id=\"T_d1bf7_level0_col1\" class=\"col_heading level0 col1\" >Truthful Declarations</th>\n",
              "      <th id=\"T_d1bf7_level0_col2\" class=\"col_heading level0 col2\" >Failed Bluffs</th>\n",
              "      <th id=\"T_d1bf7_level0_col3\" class=\"col_heading level0 col3\" >LLM1 Score</th>\n",
              "      <th id=\"T_d1bf7_level0_col4\" class=\"col_heading level0 col4\" >LLM2 Score</th>\n",
              "      <th id=\"T_d1bf7_level0_col5\" class=\"col_heading level0 col5\" >Bluff Success Rate</th>\n",
              "    </tr>\n",
              "  </thead>\n",
              "  <tbody>\n",
              "    <tr>\n",
              "      <th id=\"T_d1bf7_level0_row0\" class=\"row_heading level0 row0\" >0</th>\n",
              "      <td id=\"T_d1bf7_row0_col0\" class=\"data row0 col0\" >10</td>\n",
              "      <td id=\"T_d1bf7_row0_col1\" class=\"data row0 col1\" >9</td>\n",
              "      <td id=\"T_d1bf7_row0_col2\" class=\"data row0 col2\" >1</td>\n",
              "      <td id=\"T_d1bf7_row0_col3\" class=\"data row0 col3\" >6</td>\n",
              "      <td id=\"T_d1bf7_row0_col4\" class=\"data row0 col4\" >3</td>\n",
              "      <td id=\"T_d1bf7_row0_col5\" class=\"data row0 col5\" >0.000000</td>\n",
              "    </tr>\n",
              "  </tbody>\n",
              "</table>\n"
            ]
          },
          "metadata": {},
          "execution_count": 25
        }
      ]
    },
    {
      "cell_type": "markdown",
      "source": [
        "---\n",
        "Προσπαθει αρχικα να build trust, υποπτευεται το pattern απο το γυρο 3, προσπαθει να το κανει exploit στο 5ο γυρο (και τις 2 φορες) και τρωει τα μουτρα του, καταλαβαινει πληρως το pattern και κανει μονο truthful declarations απο κει και υστερα\n",
        "\n",
        "Total Rounds\tTruthful Declarations\tFailed Bluffs\tLLM1 Score\tLLM2 Score\tBluff Success Rate\n",
        "0\t10\t9\t1\t6\t3\t0.000000\n",
        "\n"
      ],
      "metadata": {
        "id": "i1x6bqt-oh_8"
      }
    }
  ]
}